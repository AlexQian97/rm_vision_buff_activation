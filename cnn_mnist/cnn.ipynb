{
 "cells": [
  {
   "cell_type": "code",
   "execution_count": 1,
   "metadata": {
    "collapsed": false,
    "deletable": true,
    "editable": true
   },
   "outputs": [
    {
     "name": "stdout",
     "output_type": "stream",
     "text": [
      "Extracting data/MNIST/train-images-idx3-ubyte.gz\n",
      "Extracting data/MNIST/train-labels-idx1-ubyte.gz\n",
      "Extracting data/MNIST/t10k-images-idx3-ubyte.gz\n",
      "Extracting data/MNIST/t10k-labels-idx1-ubyte.gz\n"
     ]
    }
   ],
   "source": [
    "# import libraries\n",
    "import tensorflow as tf\n",
    "from tensorflow.examples.tutorials.mnist import input_data\n",
    "\n",
    "# load the data\n",
    "mnist = input_data.read_data_sets('data/MNIST/', one_hot=True)"
   ]
  },
  {
   "cell_type": "code",
   "execution_count": 2,
   "metadata": {
    "collapsed": true,
    "deletable": true,
    "editable": true
   },
   "outputs": [],
   "source": [
    "def weight_variable(shape):\n",
    "    # initialize weights, normalize it to make it easier to converge\n",
    "    initial = tf.truncated_normal(shape, stddev = 0.1)\n",
    "    return tf.Variable(initial)\n",
    "\n",
    "def bias_variable(shape):\n",
    "    # not 0 in case of never being activated\n",
    "    initial = tf.constant(0.1, shape=shape)\n",
    "    return tf.Variable(initial)\n",
    "\n",
    "def conv2d(x, W):\n",
    "    return tf.nn.conv2d(x, W, strides = [1, 1, 1, 1], padding = 'SAME')\n",
    "\n",
    "def max_pool_2x2(x):\n",
    "    return tf.nn.max_pool(x, ksize=[1, 2, 2, 1], strides = [1, 2, 2, 1], padding = 'SAME')"
   ]
  },
  {
   "cell_type": "code",
   "execution_count": 3,
   "metadata": {
    "collapsed": true,
    "deletable": true,
    "editable": true
   },
   "outputs": [],
   "source": [
    "def cnn(x):\n",
    "    # return the logits\n",
    "    \n",
    "    # [None, 784] ==> [None, 28, 28, 1]\n",
    "    x_image = tf.reshape(x, [-1, 28, 28, 1])\n",
    "\n",
    "    # convolutional layer 1\n",
    "    conv1_w = weight_variable([5, 5, 1, 32])\n",
    "    conv1_b = bias_variable([32])\n",
    "\n",
    "    conv1 = tf.nn.relu(conv2d(x_image, conv1_w) + conv1_b)\n",
    "    conv1 = max_pool_2x2(conv1)\n",
    "\n",
    "    # convolutional layer 2\n",
    "    conv2_w = weight_variable([5, 5, 32, 64])\n",
    "    conv2_b = bias_variable([64])\n",
    "\n",
    "    conv2 = tf.nn.relu(conv2d(conv1, conv2_w) + conv2_b)\n",
    "    conv2 = max_pool_2x2(conv2)\n",
    "\n",
    "    # flatten layer\n",
    "    fcl_w = weight_variable([7 * 7 * 64, 1024])\n",
    "    fcl_b = bias_variable([1024])\n",
    "\n",
    "    flatten = tf.reshape(conv2, [-1, 7 * 7 * 64])\n",
    "    fcl = tf.nn.relu(tf.matmul(flatten, fcl_w) + fcl_b)\n",
    "\n",
    "    # dropout layer\n",
    "    fc1 = tf.nn.dropout(fcl, keep_prob)\n",
    "\n",
    "    # output layer\n",
    "    fc2_w = weight_variable([1024, 10])\n",
    "    fc2_b = bias_variable([10])\n",
    "\n",
    "    logits = tf.nn.softmax(tf.matmul(fc1, fc2_w) + fc2_b)\n",
    "    \n",
    "    return logits"
   ]
  },
  {
   "cell_type": "code",
   "execution_count": 4,
   "metadata": {
    "collapsed": false,
    "deletable": true,
    "editable": true
   },
   "outputs": [],
   "source": [
    "# create placeholders\n",
    "x = tf.placeholder(tf.float32, shape = [None, 784], name='x')\n",
    "y_ = tf.placeholder(tf.float32, shape = [None, 10], name='y')\n",
    "keep_prob = tf.placeholder(tf.float32, name='keep_prob')\n",
    "logits = cnn(x)\n",
    "logits = tf.identity(logits, name='logits')"
   ]
  },
  {
   "cell_type": "code",
   "execution_count": 5,
   "metadata": {
    "collapsed": false,
    "deletable": true,
    "editable": true
   },
   "outputs": [],
   "source": [
    "# training and evaluation operations\n",
    "cross_entropy = -tf.reduce_sum(y_*tf.log(logits))\n",
    "train_op = tf.train.AdamOptimizer(1e-4).minimize(cross_entropy)\n",
    "correct_prediction = tf.equal(tf.argmax(logits, 1), tf.argmax(y_, 1))\n",
    "accuracy = tf.reduce_mean(tf.cast(correct_prediction, \"float\"), name='accuracy')"
   ]
  },
  {
   "cell_type": "code",
   "execution_count": 6,
   "metadata": {
    "collapsed": false,
    "deletable": true,
    "editable": true
   },
   "outputs": [
    {
     "name": "stdout",
     "output_type": "stream",
     "text": [
      "iter: 0, training accuracy: 0.078125\n",
      "iter: 100, training accuracy: 0.9375\n",
      "iter: 200, training accuracy: 0.875\n",
      "iter: 300, training accuracy: 0.90625\n",
      "iter: 400, training accuracy: 0.890625\n",
      "iter: 500, training accuracy: 0.90625\n",
      "iter: 600, training accuracy: 0.953125\n",
      "iter: 700, training accuracy: 0.984375\n",
      "iter: 800, training accuracy: 0.90625\n",
      "iter: 900, training accuracy: 0.96875\n",
      "iter: 1000, training accuracy: 0.953125\n",
      "iter: 1100, training accuracy: 0.96875\n",
      "iter: 1200, training accuracy: 0.984375\n",
      "iter: 1300, training accuracy: 0.96875\n",
      "iter: 1400, training accuracy: 0.953125\n",
      "iter: 1500, training accuracy: 0.984375\n",
      "iter: 1600, training accuracy: 1\n",
      "iter: 1700, training accuracy: 0.984375\n",
      "iter: 1800, training accuracy: 0.984375\n",
      "iter: 1900, training accuracy: 0.984375\n",
      "test accuracy: 0.9785\n",
      "Model saved\n"
     ]
    }
   ],
   "source": [
    "# train the CNN\n",
    "with tf.Session() as sess:\n",
    "    sess.run(tf.global_variables_initializer())\n",
    "    for i in range(2000):\n",
    "        batch = mnist.train.next_batch(64)\n",
    "        if i % 100 == 0:\n",
    "            train_accuracy = accuracy.eval(feed_dict = {x:batch[0], y_: batch[1], keep_prob: 1.0})\n",
    "            print(\"iter: %d, training accuracy: %g\" % (i, train_accuracy))\n",
    "        train_op.run(feed_dict = {x: batch[0], y_: batch[1], keep_prob: 0.7})\n",
    "    print(\"test accuracy: %g\" % accuracy.eval(feed_dict = {x: mnist.test.images, y_: mnist.test.labels, keep_prob: 1.0}))\n",
    "    # save the model\n",
    "    saver = tf.train.Saver()\n",
    "    tf.add_to_collection('predict_op', logits)\n",
    "    tf.add_to_collection('hparams', x)\n",
    "    tf.add_to_collection('hparams', keep_prob)\n",
    "    saver.save(sess, './cnn_data')\n",
    "    #saver.save(sess, 'cnn_model',global_step=1000)\n",
    "    print(\"Model saved\")"
   ]
  },
  {
   "cell_type": "markdown",
   "metadata": {
    "deletable": true,
    "editable": true
   },
   "source": [
    "## This model has nearly 98% correction in test. But it requires that the input is [None,784]"
   ]
  },
  {
   "cell_type": "code",
   "execution_count": 1,
   "metadata": {
    "collapsed": false,
    "deletable": true,
    "editable": true
   },
   "outputs": [],
   "source": [
    "import tensorflow as tf\n",
    "#from tensorflow.examples.tutorials.mnist import input_data\n",
    "#mnist = input_data.read_data_sets('data/MNIST/', one_hot=True)"
   ]
  },
  {
   "cell_type": "code",
   "execution_count": 4,
   "metadata": {
    "collapsed": false,
    "deletable": true,
    "editable": true
   },
   "outputs": [
    {
     "ename": "NameError",
     "evalue": "name 'train_op' is not defined",
     "output_type": "error",
     "traceback": [
      "\u001b[0;31m---------------------------------------------------------------------------\u001b[0m",
      "\u001b[0;31mNameError\u001b[0m                                 Traceback (most recent call last)",
      "\u001b[0;32m<ipython-input-4-2a91f2eda091>\u001b[0m in \u001b[0;36m<module>\u001b[0;34m()\u001b[0m\n\u001b[1;32m     10\u001b[0m \u001b[0;31m#     loaded_acc = loaded_graph.get_tensor_by_name('accuracy:0')\u001b[0m\u001b[0;34m\u001b[0m\u001b[0;34m\u001b[0m\u001b[0m\n\u001b[1;32m     11\u001b[0m     \u001b[0mpredict_op\u001b[0m \u001b[0;34m=\u001b[0m \u001b[0mtf\u001b[0m\u001b[0;34m.\u001b[0m\u001b[0mget_collection\u001b[0m\u001b[0;34m(\u001b[0m\u001b[0;34m'predict_op'\u001b[0m\u001b[0;34m)\u001b[0m\u001b[0;34m[\u001b[0m\u001b[0;36m0\u001b[0m\u001b[0;34m]\u001b[0m\u001b[0;34m\u001b[0m\u001b[0m\n\u001b[0;32m---> 12\u001b[0;31m     \u001b[0msess\u001b[0m\u001b[0;34m.\u001b[0m\u001b[0mrun\u001b[0m\u001b[0;34m(\u001b[0m\u001b[0mtrain_op\u001b[0m\u001b[0;34m,\u001b[0m\u001b[0mfeed_dict\u001b[0m \u001b[0;34m=\u001b[0m \u001b[0;34m{\u001b[0m\u001b[0mx\u001b[0m\u001b[0;34m:\u001b[0m \u001b[0mbatch\u001b[0m\u001b[0;34m[\u001b[0m\u001b[0;36m0\u001b[0m\u001b[0;34m]\u001b[0m\u001b[0;34m,\u001b[0m \u001b[0my_\u001b[0m\u001b[0;34m:\u001b[0m \u001b[0mbatch\u001b[0m\u001b[0;34m[\u001b[0m\u001b[0;36m1\u001b[0m\u001b[0;34m]\u001b[0m\u001b[0;34m,\u001b[0m \u001b[0mkeep_prob\u001b[0m\u001b[0;34m:\u001b[0m \u001b[0;36m0.7\u001b[0m\u001b[0;34m}\u001b[0m\u001b[0;34m)\u001b[0m\u001b[0;34m\u001b[0m\u001b[0m\n\u001b[0m\u001b[1;32m     13\u001b[0m     \u001b[0;31m#print(\"test accuracy: %g\" % loadedacc.eval(feed_dict = {loaded_x: mnist.test.images, loaded_y: mnist.test.labels, loaded_keep_prob: 1.0}))\u001b[0m\u001b[0;34m\u001b[0m\u001b[0;34m\u001b[0m\u001b[0m\n",
      "\u001b[0;31mNameError\u001b[0m: name 'train_op' is not defined"
     ]
    }
   ],
   "source": [
    "loaded_graph = tf.Graph()\n",
    "with tf.Session() as sess:\n",
    "    new_saver = tf.train.import_meta_graph('./cnn_data.meta')\n",
    "    new_saver.restore(sess, './cnn_data')\n",
    "    \n",
    "#     loaded_x = loaded_graph.get_tensor_by_name('x:0')\n",
    "#     loaded_y = loaded_graph.get_tensor_by_name('y:0')\n",
    "#     loaded_keep_prob = loaded_graph.get_tensor_by_name('keep_prob:0')\n",
    "#     loaded_logits = loaded_graph.get_tensor_by_name('logits:0')\n",
    "#     loaded_acc = loaded_graph.get_tensor_by_name('accuracy:0')\n",
    "    predict_op = tf.get_collection('predict_op')[0]\n",
    "    sess.run(train_op,feed_dict = {x: batch[0], y_: batch[1], keep_prob: 0.7})\n",
    "    #print(\"test accuracy: %g\" % loadedacc.eval(feed_dict = {loaded_x: mnist.test.images, loaded_y: mnist.test.labels, loaded_keep_prob: 1.0}))"
   ]
  },
  {
   "cell_type": "markdown",
   "metadata": {
    "deletable": true,
    "editable": true
   },
   "source": [
    "# time to identify some numbers"
   ]
  },
  {
   "cell_type": "code",
   "execution_count": 9,
   "metadata": {
    "collapsed": true,
    "deletable": true,
    "editable": true
   },
   "outputs": [],
   "source": [
    "import cv2\n",
    "import tensorflow as tf\n",
    "import matplotlib.pyplot as plt\n",
    "import numpy as np\n",
    "%matplotlib inline"
   ]
  },
  {
   "cell_type": "code",
   "execution_count": 2,
   "metadata": {
    "collapsed": true,
    "deletable": true,
    "editable": true
   },
   "outputs": [],
   "source": [
    "def gray_white(gray, thresh=50):\n",
    "    binary_mask = np.zeros_like(gray)\n",
    "    binary_mask[gray > thresh] = 1\n",
    "    #print(gray.max(), gray.min())\n",
    "    #plt.imshow(binary_mask)\n",
    "    my_gray = gray.copy()\n",
    "    my_gray[binary_mask == 1] = 255\n",
    "    return my_gray"
   ]
  },
  {
   "cell_type": "code",
   "execution_count": 3,
   "metadata": {
    "collapsed": true,
    "deletable": true,
    "editable": true
   },
   "outputs": [],
   "source": [
    "# def process_image(img):\n",
    "#     img = cv2.resize(img, (28,28))\n",
    "#     img = white_background(img)\n",
    "#     gray = cv2.cvtColor(img, cv2.COLOR_BGR2GRAY)\n",
    "#     gray = gray - 255\n",
    "#     return gray\n",
    "def process_image(img):\n",
    "    img = img[5:60,5:100]\n",
    "    img = cv2.resize(img, (28,28))\n",
    "    gray = cv2.cvtColor(img, cv2.COLOR_BGR2GRAY)\n",
    "    gray = gray_white(gray, 130)\n",
    "    gray = cv2.bitwise_not(gray)\n",
    "    return gray"
   ]
  },
  {
   "cell_type": "code",
   "execution_count": 4,
   "metadata": {
    "collapsed": false,
    "deletable": true,
    "editable": true
   },
   "outputs": [
    {
     "data": {
      "text/plain": [
       "(9, 784)"
      ]
     },
     "execution_count": 4,
     "metadata": {},
     "output_type": "execute_result"
    }
   ],
   "source": [
    "test_1 = cv2.imread('test_images/testing_write_0.png')\n",
    "test_2 = cv2.imread('test_images/testing_write_1.png')\n",
    "test_3 = cv2.imread('test_images/testing_write_2.png')\n",
    "test_4 = cv2.imread('test_images/testing_write_3.png')\n",
    "test_5 = cv2.imread('test_images/testing_write_4.png')\n",
    "test_6 = cv2.imread('test_images/testing_write_5.png')\n",
    "test_7 = cv2.imread('test_images/testing_write_6.png')\n",
    "test_8 = cv2.imread('test_images/testing_write_7.png')\n",
    "test_9 = cv2.imread('test_images/testing_write_8.png')\n",
    "processed_1 = process_image(test_1)\n",
    "processed_2 = process_image(test_2)\n",
    "processed_3 = process_image(test_3)\n",
    "processed_4 = process_image(test_4)\n",
    "processed_5 = process_image(test_5)\n",
    "processed_6 = process_image(test_6)\n",
    "processed_7 = process_image(test_7)\n",
    "processed_8 = process_image(test_8)\n",
    "processed_9 = process_image(test_9)\n",
    "array_1 = processed_1.reshape(-1)\n",
    "array_2 = processed_2.reshape(-1)\n",
    "array_3 = processed_3.reshape(-1)\n",
    "array_4 = processed_4.reshape(-1)\n",
    "array_5 = processed_5.reshape(-1)\n",
    "array_6 = processed_6.reshape(-1)\n",
    "array_7 = processed_7.reshape(-1)\n",
    "array_8 = processed_8.reshape(-1)\n",
    "array_9 = processed_9.reshape(-1)\n",
    "my_array = np.vstack((array_1, array_2, array_3, array_4, array_5, array_6, array_7, array_8, array_9))\n",
    "my_array.shape"
   ]
  },
  {
   "cell_type": "code",
   "execution_count": 5,
   "metadata": {
    "collapsed": false,
    "deletable": true,
    "editable": true
   },
   "outputs": [
    {
     "data": {
      "text/plain": [
       "(1, 784)"
      ]
     },
     "execution_count": 5,
     "metadata": {},
     "output_type": "execute_result"
    }
   ],
   "source": [
    "np.array([my_array[0]]).shape"
   ]
  },
  {
   "cell_type": "code",
   "execution_count": 6,
   "metadata": {
    "collapsed": false,
    "deletable": true,
    "editable": true
   },
   "outputs": [
    {
     "data": {
      "text/plain": [
       "<matplotlib.image.AxesImage at 0x11dd65d30>"
      ]
     },
     "execution_count": 6,
     "metadata": {},
     "output_type": "execute_result"
    },
    {
     "data": {
      "image/png": "[encoded data removed]",
      "text/plain": [
       "<matplotlib.figure.Figure at 0x11bd0b7b8>"
      ]
     },
     "metadata": {},
     "output_type": "display_data"
    }
   ],
   "source": [
    "plt.imshow(test_5)"
   ]
  },
  {
   "cell_type": "code",
   "execution_count": 7,
   "metadata": {
    "collapsed": false,
    "deletable": true,
    "editable": true,
    "scrolled": true
   },
   "outputs": [
    {
     "data": {
      "text/plain": [
       "<matplotlib.image.AxesImage at 0x11ded42b0>"
      ]
     },
     "execution_count": 7,
     "metadata": {},
     "output_type": "execute_result"
    },
    {
     "data": {
      "image/png": "[encoded data removed]",
      "text/plain": [
       "<matplotlib.figure.Figure at 0x11de02278>"
      ]
     },
     "metadata": {},
     "output_type": "display_data"
    }
   ],
   "source": [
    "plt.imshow(processed_5)"
   ]
  },
  {
   "cell_type": "code",
   "execution_count": 10,
   "metadata": {
    "collapsed": false,
    "deletable": true,
    "editable": true
   },
   "outputs": [],
   "source": [
    "loaded_graph = tf.Graph()\n",
    "with tf.Session() as sess:\n",
    "    new_saver = tf.train.import_meta_graph('./cnn_data.meta')\n",
    "    new_saver.restore(sess, './cnn_data')\n",
    "    predict_op = tf.get_collection('predict_op')[0]\n",
    "    hparams = tf.get_collection(\"hparams\")\n",
    "    x = hparams[0]\n",
    "    keep_prob = hparams[1]\n",
    "    predicted_logits = sess.run(predict_op,feed_dict = {x: my_array, keep_prob: 1.0})"
   ]
  },
  {
   "cell_type": "code",
   "execution_count": 11,
   "metadata": {
    "collapsed": false,
    "deletable": true,
    "editable": true
   },
   "outputs": [
    {
     "data": {
      "text/plain": [
       "array([5, 7, 2, 7, 6, 8, 9, 3, 4])"
      ]
     },
     "execution_count": 11,
     "metadata": {},
     "output_type": "execute_result"
    }
   ],
   "source": [
    "np.argmax(predicted_logits, axis=1)"
   ]
  },
  {
   "cell_type": "markdown",
   "metadata": {
    "deletable": true,
    "editable": true
   },
   "source": [
    "### 9,5,8,6,1 correct"
   ]
  },
  {
   "cell_type": "code",
   "execution_count": 52,
   "metadata": {
    "collapsed": false,
    "deletable": true,
    "editable": true
   },
   "outputs": [
    {
     "data": {
      "text/plain": [
       "array([[ 0.,  0.,  0.,  0.,  0.,  1.,  0.,  0.,  0.,  0.],\n",
       "       [ 0.,  0.,  0.,  0.,  0.,  0.,  0.,  1.,  0.,  0.],\n",
       "       [ 0.,  0.,  1.,  0.,  0.,  0.,  0.,  0.,  0.,  0.],\n",
       "       [ 0.,  0.,  0.,  0.,  0.,  0.,  0.,  1.,  0.,  0.],\n",
       "       [ 0.,  0.,  0.,  0.,  0.,  0.,  1.,  0.,  0.,  0.],\n",
       "       [ 0.,  0.,  0.,  0.,  0.,  0.,  0.,  0.,  1.,  0.],\n",
       "       [ 0.,  0.,  0.,  0.,  0.,  0.,  0.,  0.,  0.,  1.],\n",
       "       [ 0.,  0.,  0.,  1.,  0.,  0.,  0.,  0.,  0.,  0.],\n",
       "       [ 0.,  0.,  0.,  0.,  1.,  0.,  0.,  0.,  0.,  0.]], dtype=float32)"
      ]
     },
     "execution_count": 52,
     "metadata": {},
     "output_type": "execute_result"
    }
   ],
   "source": [
    "predicted_logits"
   ]
  },
  {
   "cell_type": "markdown",
   "metadata": {
    "collapsed": true,
    "deletable": true,
    "editable": true
   },
   "source": [
    "## make a better function process all"
   ]
  },
  {
   "cell_type": "code",
   "execution_count": 14,
   "metadata": {
    "collapsed": false,
    "deletable": true,
    "editable": true
   },
   "outputs": [
    {
     "data": {
      "text/plain": [
       "['test_images/testing_write_0.png',\n",
       " 'test_images/testing_write_1.png',\n",
       " 'test_images/testing_write_2.png',\n",
       " 'test_images/testing_write_3.png',\n",
       " 'test_images/testing_write_4.png',\n",
       " 'test_images/testing_write_5.png',\n",
       " 'test_images/testing_write_6.png',\n",
       " 'test_images/testing_write_7.png',\n",
       " 'test_images/testing_write_8.png']"
      ]
     },
     "execution_count": 14,
     "metadata": {},
     "output_type": "execute_result"
    }
   ],
   "source": [
    "import glob\n",
    "import numpy as np\n",
    "import cv2\n",
    "image_paths = glob.glob('test_images/*.png')\n",
    "image_paths"
   ]
  },
  {
   "cell_type": "code",
   "execution_count": 15,
   "metadata": {
    "collapsed": false,
    "deletable": true,
    "editable": true
   },
   "outputs": [],
   "source": [
    "my_array = None"
   ]
  },
  {
   "cell_type": "code",
   "execution_count": 16,
   "metadata": {
    "collapsed": false,
    "deletable": true,
    "editable": true
   },
   "outputs": [
    {
     "name": "stderr",
     "output_type": "stream",
     "text": [
      "/Users/pro/anaconda/envs/carnd-term1/lib/python3.5/site-packages/ipykernel/__main__.py:5: FutureWarning: comparison to `None` will result in an elementwise object comparison in the future.\n"
     ]
    }
   ],
   "source": [
    "for path in image_paths:\n",
    "    test_image = cv2.imread(path)\n",
    "    processed_image = process_image(test_image)\n",
    "    image_array = processed_image.reshape(-1)\n",
    "    if my_array == None:\n",
    "        my_array = image_array\n",
    "    else:\n",
    "        my_array = np.vstack((my_array,image_array))"
   ]
  },
  {
   "cell_type": "code",
   "execution_count": 21,
   "metadata": {
    "collapsed": false,
    "deletable": true,
    "editable": true
   },
   "outputs": [
    {
     "data": {
      "text/plain": [
       "(9, 784)"
      ]
     },
     "execution_count": 21,
     "metadata": {},
     "output_type": "execute_result"
    }
   ],
   "source": [
    "my_array.shape"
   ]
  },
  {
   "cell_type": "code",
   "execution_count": 17,
   "metadata": {
    "collapsed": true,
    "deletable": true,
    "editable": true
   },
   "outputs": [],
   "source": [
    "loaded_graph = tf.Graph()\n",
    "with tf.Session() as sess:\n",
    "    new_saver = tf.train.import_meta_graph('./cnn_data.meta')\n",
    "    new_saver.restore(sess, './cnn_data')\n",
    "    predict_op = tf.get_collection('predict_op')[0]\n",
    "    hparams = tf.get_collection(\"hparams\")\n",
    "    x = hparams[0]\n",
    "    keep_prob = hparams[1]\n",
    "    predicted_logits = sess.run(predict_op,feed_dict = {x: my_array, keep_prob: 1.0})"
   ]
  },
  {
   "cell_type": "code",
   "execution_count": 18,
   "metadata": {
    "collapsed": false,
    "deletable": true,
    "editable": true
   },
   "outputs": [
    {
     "data": {
      "text/plain": [
       "array([5, 7, 2, 7, 6, 8, 9, 3, 4])"
      ]
     },
     "execution_count": 18,
     "metadata": {},
     "output_type": "execute_result"
    }
   ],
   "source": [
    "np.argmax(predicted_logits, axis=1)"
   ]
  },
  {
   "cell_type": "code",
   "execution_count": null,
   "metadata": {
    "collapsed": false,
    "deletable": true,
    "editable": true
   },
   "outputs": [
    {
     "name": "stderr",
     "output_type": "stream",
     "text": [
      "/Users/pro/anaconda/envs/carnd-term1/lib/python3.5/site-packages/ipykernel/__main__.py:34: FutureWarning: comparison to `None` will result in an elementwise object comparison in the future.\n"
     ]
    }
   ],
   "source": [
    "import tensorflow as tf\n",
    "import cv2\n",
    "import numpy as np\n",
    "import glob\n",
    "\n",
    "# make background white or black (I forgot)\n",
    "def gray_white(gray, thresh=50):\n",
    "    binary_mask = np.zeros_like(gray)\n",
    "    binary_mask[gray > thresh] = 1\n",
    "    #print(gray.max(), gray.min())\n",
    "    #plt.imshow(binary_mask)\n",
    "    my_gray = gray.copy()\n",
    "    my_gray[binary_mask == 1] = 255\n",
    "    return my_gray\n",
    "\n",
    "# processing pipeline\n",
    "def process_image(img):\n",
    "    #image_shape = img.shape\n",
    "    #img = img[5:image_shape[0]-5,5:image_shape[1]-5]\n",
    "    img = img[5:60,5:100]\n",
    "    img = cv2.resize(img, (28,28))\n",
    "    gray = cv2.cvtColor(img, cv2.COLOR_BGR2GRAY)\n",
    "    gray = gray_white(gray, 40)\n",
    "    gray = cv2.bitwise_not(gray)\n",
    "    return gray\n",
    "\n",
    "# load images by path\n",
    "def load_images(image_paths):\n",
    "    my_array = None\n",
    "    for path in image_paths:\n",
    "        test_image = cv2.imread(path)\n",
    "        processed_image = process_image(test_image)\n",
    "        image_array = processed_image.reshape(-1)\n",
    "        if my_array == None:\n",
    "            my_array = image_array\n",
    "        else:\n",
    "            my_array = np.vstack((my_array,image_array))\n",
    "    return my_array\n",
    "\n",
    "\n",
    "if __name__ == \"__main__\":\n",
    "    image_paths = sorted(glob.glob('test_images/*.png'))\n",
    "    my_array = load_images(image_paths)\n",
    "\n",
    "    # load the model\n",
    "    loaded_graph = tf.Graph()\n",
    "    with tf.Session() as sess:\n",
    "        new_saver = tf.train.import_meta_graph('./cnn_data.meta')\n",
    "        new_saver.restore(sess, './cnn_data')\n",
    "        predict_op = tf.get_collection('predict_op')[0]\n",
    "        hparams = tf.get_collection(\"hparams\")\n",
    "        x = hparams[0]\n",
    "        keep_prob = hparams[1]\n",
    "        predicted_logits = sess.run(predict_op,feed_dict = {x: my_array, keep_prob: 1.0})\n",
    "        print(np.argmax(predicted_logits, axis=1))"
   ]
  },
  {
   "cell_type": "code",
   "execution_count": 14,
   "metadata": {
    "collapsed": false
   },
   "outputs": [
    {
     "data": {
      "text/plain": [
       "['test_images/testing_write_0.png',\n",
       " 'test_images/testing_write_1.png',\n",
       " 'test_images/testing_write_2.png',\n",
       " 'test_images/testing_write_3.png',\n",
       " 'test_images/testing_write_4.png',\n",
       " 'test_images/testing_write_5.png',\n",
       " 'test_images/testing_write_6.png',\n",
       " 'test_images/testing_write_7.png',\n",
       " 'test_images/testing_write_8.png']"
      ]
     },
     "execution_count": 14,
     "metadata": {},
     "output_type": "execute_result"
    }
   ],
   "source": [
    "image_paths"
   ]
  },
  {
   "cell_type": "code",
   "execution_count": 16,
   "metadata": {
    "collapsed": false
   },
   "outputs": [
    {
     "ename": "NameError",
     "evalue": "name 'image_paths' is not defined",
     "output_type": "error",
     "traceback": [
      "\u001b[0;31m---------------------------------------------------------------------------\u001b[0m",
      "\u001b[0;31mNameError\u001b[0m                                 Traceback (most recent call last)",
      "\u001b[0;32m<ipython-input-16-8639e8b0e8c3>\u001b[0m in \u001b[0;36m<module>\u001b[0;34m()\u001b[0m\n\u001b[1;32m      1\u001b[0m \u001b[0mmy_array\u001b[0m \u001b[0;34m=\u001b[0m \u001b[0;32mNone\u001b[0m\u001b[0;34m\u001b[0m\u001b[0m\n\u001b[0;32m----> 2\u001b[0;31m \u001b[0;32mfor\u001b[0m \u001b[0mpath\u001b[0m \u001b[0;32min\u001b[0m \u001b[0mimage_paths\u001b[0m\u001b[0;34m:\u001b[0m\u001b[0;34m\u001b[0m\u001b[0m\n\u001b[0m\u001b[1;32m      3\u001b[0m     \u001b[0mprint\u001b[0m\u001b[0;34m(\u001b[0m\u001b[0mpath\u001b[0m\u001b[0;34m)\u001b[0m\u001b[0;34m\u001b[0m\u001b[0m\n\u001b[1;32m      4\u001b[0m     \u001b[0mtest_image\u001b[0m \u001b[0;34m=\u001b[0m \u001b[0mcv2\u001b[0m\u001b[0;34m.\u001b[0m\u001b[0mimread\u001b[0m\u001b[0;34m(\u001b[0m\u001b[0mpath\u001b[0m\u001b[0;34m)\u001b[0m\u001b[0;34m\u001b[0m\u001b[0m\n\u001b[1;32m      5\u001b[0m     \u001b[0mprocessed_image\u001b[0m \u001b[0;34m=\u001b[0m \u001b[0mprocess_image\u001b[0m\u001b[0;34m(\u001b[0m\u001b[0mtest_image\u001b[0m\u001b[0;34m)\u001b[0m\u001b[0;34m\u001b[0m\u001b[0m\n",
      "\u001b[0;31mNameError\u001b[0m: name 'image_paths' is not defined"
     ]
    }
   ],
   "source": [
    "my_array = None\n",
    "for path in image_paths:\n",
    "    print(path)\n",
    "    test_image = cv2.imread(path)\n",
    "    processed_image = process_image(test_image)\n",
    "    image_array = processed_image.reshape(-1)\n",
    "    if my_array == None:\n",
    "        my_array = image_array\n",
    "    else:\n",
    "        my_array = np.vstack([my_array,image_array])"
   ]
  },
  {
   "cell_type": "code",
   "execution_count": 20,
   "metadata": {
    "collapsed": false
   },
   "outputs": [
    {
     "name": "stdout",
     "output_type": "stream",
     "text": [
      "[5 7 2 7 6 8 9 3 4]\n"
     ]
    }
   ],
   "source": [
    "# load the model\n",
    "loaded_graph = tf.Graph()\n",
    "with tf.Session() as sess:\n",
    "    new_saver = tf.train.import_meta_graph('./cnn_data.meta')\n",
    "    new_saver.restore(sess, './cnn_data')\n",
    "    predict_op = tf.get_collection('predict_op')[0]\n",
    "    hparams = tf.get_collection(\"hparams\")\n",
    "    x = hparams[0]\n",
    "    keep_prob = hparams[1]\n",
    "    predicted_logits = sess.run(predict_op,feed_dict = {x: my_array, keep_prob: 1.0})\n",
    "    print(np.argmax(predicted_logits, axis=1))"
   ]
  },
  {
   "cell_type": "code",
   "execution_count": 22,
   "metadata": {
    "collapsed": false
   },
   "outputs": [
    {
     "data": {
      "text/plain": [
       "(63, 111, 3)"
      ]
     },
     "execution_count": 22,
     "metadata": {},
     "output_type": "execute_result"
    }
   ],
   "source": [
    "test_1.shape"
   ]
  },
  {
   "cell_type": "code",
   "execution_count": 12,
   "metadata": {
    "collapsed": true
   },
   "outputs": [],
   "source": [
    "list_1 = np.array([1, 1, 1])\n",
    "list_2 = np.array([2, 2, 2])\n",
    "list_3 = np.array([3, 3, 3])\n",
    "temp_array = list_1"
   ]
  },
  {
   "cell_type": "code",
   "execution_count": 14,
   "metadata": {
    "collapsed": false
   },
   "outputs": [],
   "source": [
    "temp_array = np.vstack([temp_array, list_2])"
   ]
  },
  {
   "cell_type": "code",
   "execution_count": 15,
   "metadata": {
    "collapsed": false
   },
   "outputs": [
    {
     "data": {
      "text/plain": [
       "array([[1, 1, 1],\n",
       "       [2, 2, 2]])"
      ]
     },
     "execution_count": 15,
     "metadata": {},
     "output_type": "execute_result"
    }
   ],
   "source": [
    "temp_array"
   ]
  },
  {
   "cell_type": "code",
   "execution_count": null,
   "metadata": {
    "collapsed": true
   },
   "outputs": [],
   "source": []
  }
 ],
 "metadata": {
  "kernelspec": {
   "display_name": "Python 3",
   "language": "python",
   "name": "python3"
  },
  "language_info": {
   "codemirror_mode": {
    "name": "ipython",
    "version": 3
   },
   "file_extension": ".py",
   "mimetype": "text/x-python",
   "name": "python",
   "nbconvert_exporter": "python",
   "pygments_lexer": "ipython3",
   "version": "3.5.2"
  },
  "widgets": {
   "state": {},
   "version": "1.1.2"
  }
 },
 "nbformat": 4,
 "nbformat_minor": 2
}
